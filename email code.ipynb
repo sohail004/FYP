{
 "cells": [
  {
   "cell_type": "code",
   "execution_count": 9,
   "metadata": {},
   "outputs": [
    {
     "name": "stdout",
     "output_type": "stream",
     "text": [
      "The email is sent\n",
      "The email is sent : \n"
     ]
    }
   ],
   "source": [
    "import smtplib\n",
    "from email import encoders\n",
    "import os\n",
    "from email.mime.multipart import MIMEMultipart\n",
    "from email.mime.text import MIMEText\n",
    "from email.mime.base import MIMEBase\n",
    "from email.mime.image import MIMEImage\n",
    "\n",
    "\n",
    "gmail_user = \"sohailkarimkhugno@gmail.com\"\n",
    "gmail_pwd = \"smlfzztgitpnswms\"\n",
    "\n",
    "to = \"sohail.karimsk65@gmail.com\"\n",
    "subject = \"Report\"\n",
    "text = \"Picture report from Allied ATM\"\n",
    "attach = 's.jpg'\n",
    "\n",
    "msg = MIMEMultipart()\n",
    "\n",
    "msg['From'] = gmail_user\n",
    "msg['To'] = to\n",
    "msg['Subject'] = subject\n",
    "\n",
    "msg.attach(MIMEText(text))\n",
    "\n",
    "part = MIMEBase('application', 'octet-stream')\n",
    "part.set_payload(open(attach, 'rb').read())\n",
    "encoders.encode_base64(part)\n",
    "part.add_header('Content-Disposition',\n",
    "   'attachment; filename=\"%s\"' % os.path.basename(attach))\n",
    "\n",
    "print(\"The email is sent : \")"
   ]
  },
  {
   "cell_type": "code",
   "execution_count": 7,
   "metadata": {},
   "outputs": [],
   "source": [
    "from flask import Flask, request, jsonify\n",
    "import smtplib\n",
    "from email.mime.multipart import MIMEMultipart\n",
    "from email.mime.text import MIMEText\n",
    "from email.mime.image import MIMEImage\n",
    "from email.mime.application import MIMEApplication\n",
    "\n",
    "app = Flask(__name__)\n",
    "\n",
    "def send_test_mail(body):\n",
    "    sender_email = \"sohailkarimkhugno@gmial.com\"\n",
    "    receiver_email = \"sohail.karimsk65@gmail.com\"\n",
    "\n",
    "    msg = MIMEMultipart()\n",
    "    msg['Subject'] = '[Email Test]'\n",
    "    msg['From'] = sender_email\n",
    "    msg['To'] = receiver_email\n",
    "\n",
    "    msgText = MIMEText('welcome to python code')\n",
    "    msg.attach(msgText)\n",
    "\n",
    "    with open('s.jpg', 'rb') as fp:\n",
    "        img = MIMEImage(fp.read())\n",
    "        img.add_header('Content-Disposition', 'attachment', filename=\"s.jpg\")\n",
    "        msg.attach(img)\n",
    "    try:\n",
    "        with smtplib.SMTP('smtp.office365.com', 587) as smtpObj:\n",
    "            smtpObj.ehlo()\n",
    "            smtpObj.starttls()\n",
    "            smtpObj.login(\"sohailkarimkhugno@gmial.com\", \"smlfzztgitpnswms\")\n",
    "            smtpObj.sendmail(sender_email, receiver_email, msg.as_string())\n",
    "    except Exception as e:\n",
    "        print(e)\n"
   ]
  },
  {
   "cell_type": "code",
   "execution_count": 8,
   "metadata": {},
   "outputs": [
    {
     "ename": "FileNotFoundError",
     "evalue": "[Errno 2] No such file or directory: 's.png'",
     "output_type": "error",
     "traceback": [
      "\u001b[1;31m---------------------------------------------------------------------------\u001b[0m",
      "\u001b[1;31mFileNotFoundError\u001b[0m                         Traceback (most recent call last)",
      "\u001b[1;32me:\\Uni\\uni sems 8\\facerecoginationproject\\email code.ipynb Cell 3\u001b[0m in \u001b[0;36m<cell line: 29>\u001b[1;34m()\u001b[0m\n\u001b[0;32m     <a href='vscode-notebook-cell:/e%3A/Uni/uni%20sems%208/facerecoginationproject/email%20code.ipynb#ch0000002?line=25'>26</a>\u001b[0m msgAlternative\u001b[39m.\u001b[39mattach(msgText)\n\u001b[0;32m     <a href='vscode-notebook-cell:/e%3A/Uni/uni%20sems%208/facerecoginationproject/email%20code.ipynb#ch0000002?line=27'>28</a>\u001b[0m \u001b[39m#Attach Image \u001b[39;00m\n\u001b[1;32m---> <a href='vscode-notebook-cell:/e%3A/Uni/uni%20sems%208/facerecoginationproject/email%20code.ipynb#ch0000002?line=28'>29</a>\u001b[0m fp \u001b[39m=\u001b[39m \u001b[39mopen\u001b[39;49m(\u001b[39m'\u001b[39;49m\u001b[39ms.png\u001b[39;49m\u001b[39m'\u001b[39;49m, \u001b[39m'\u001b[39;49m\u001b[39mrb\u001b[39;49m\u001b[39m'\u001b[39;49m) \u001b[39m#Read image \u001b[39;00m\n\u001b[0;32m     <a href='vscode-notebook-cell:/e%3A/Uni/uni%20sems%208/facerecoginationproject/email%20code.ipynb#ch0000002?line=29'>30</a>\u001b[0m msgImage \u001b[39m=\u001b[39m MIMEImage(fp\u001b[39m.\u001b[39mread())\n\u001b[0;32m     <a href='vscode-notebook-cell:/e%3A/Uni/uni%20sems%208/facerecoginationproject/email%20code.ipynb#ch0000002?line=30'>31</a>\u001b[0m fp\u001b[39m.\u001b[39mclose()\n",
      "\u001b[1;31mFileNotFoundError\u001b[0m: [Errno 2] No such file or directory: 's.png'"
     ]
    }
   ],
   "source": [
    "import smtplib\n",
    "from email import encoders\n",
    "from email.mime.multipart import MIMEMultipart\n",
    "from email.mime.text import MIMEText\n",
    "from email.mime.base import MIMEBase\n",
    "from email.mime.image import MIMEImage\n",
    "\n",
    "strFrom = 'sohailkarimkhugno@gmial.com'\n",
    "strTo = 'sohail.karimsk65@gmail.com'\n",
    "\n",
    "# Create the root message \n",
    "\n",
    "msgRoot = MIMEMultipart('related')\n",
    "msgRoot['Subject'] = 'test message'\n",
    "msgRoot['From'] = strFrom\n",
    "msgRoot['To'] = strTo\n",
    "msgRoot.preamble = 'Multi-part message in MIME format.'\n",
    "\n",
    "msgAlternative = MIMEMultipart('alternative')\n",
    "msgRoot.attach(msgAlternative)\n",
    "\n",
    "msgText = MIMEText('Alternative plain text message.')\n",
    "msgAlternative.attach(msgText)\n",
    "\n",
    "msgText = MIMEText('hwllo this email to check ')\n",
    "msgAlternative.attach(msgText)\n",
    "\n",
    "#Attach Image \n",
    "fp = open('s.png', 'rb') #Read image \n",
    "msgImage = MIMEImage(fp.read())\n",
    "fp.close()\n",
    "\n",
    "# Define the image's ID as referenced above\n",
    "msgImage.add_header('Content-ID', '<image1>')\n",
    "msgRoot.attach(msgImage)\n",
    "\n",
    "\n",
    "smtp = smtplib.SMTP()\n",
    "smtp.connect('smtp.gmail.com') #SMTp Server Details\n",
    "smtp.login('sohailkarimkhugno@gmial.com', 'smlfzztgitpnswms') #Username and Password of Account\n",
    "smtp.sendmail(strFrom, strTo, msgRoot.as_string())\n",
    "smtp.quit()"
   ]
  },
  {
   "cell_type": "code",
   "execution_count": 11,
   "metadata": {},
   "outputs": [
    {
     "ename": "FileNotFoundError",
     "evalue": "[Errno 2] No such file or directory: 's.png'",
     "output_type": "error",
     "traceback": [
      "\u001b[1;31m---------------------------------------------------------------------------\u001b[0m",
      "\u001b[1;31mFileNotFoundError\u001b[0m                         Traceback (most recent call last)",
      "\u001b[1;32me:\\Uni\\uni sems 8\\facerecoginationproject\\email code.ipynb Cell 4\u001b[0m in \u001b[0;36m<cell line: 15>\u001b[1;34m()\u001b[0m\n\u001b[0;32m     <a href='vscode-notebook-cell:/e%3A/Uni/uni%20sems%208/facerecoginationproject/email%20code.ipynb#ch0000003?line=11'>12</a>\u001b[0m newMessage[\u001b[39m'\u001b[39m\u001b[39mTo\u001b[39m\u001b[39m'\u001b[39m] \u001b[39m=\u001b[39m Reciever_Email                   \n\u001b[0;32m     <a href='vscode-notebook-cell:/e%3A/Uni/uni%20sems%208/facerecoginationproject/email%20code.ipynb#ch0000003?line=12'>13</a>\u001b[0m newMessage\u001b[39m.\u001b[39mset_content(\u001b[39m'\u001b[39m\u001b[39mLet me know what you think. Image attached!\u001b[39m\u001b[39m'\u001b[39m) \n\u001b[1;32m---> <a href='vscode-notebook-cell:/e%3A/Uni/uni%20sems%208/facerecoginationproject/email%20code.ipynb#ch0000003?line=14'>15</a>\u001b[0m \u001b[39mwith\u001b[39;00m \u001b[39mopen\u001b[39;49m(\u001b[39m'\u001b[39;49m\u001b[39ms.png\u001b[39;49m\u001b[39m'\u001b[39;49m, \u001b[39m'\u001b[39;49m\u001b[39mrb\u001b[39;49m\u001b[39m'\u001b[39;49m) \u001b[39mas\u001b[39;00m f:\n\u001b[0;32m     <a href='vscode-notebook-cell:/e%3A/Uni/uni%20sems%208/facerecoginationproject/email%20code.ipynb#ch0000003?line=15'>16</a>\u001b[0m     image_data \u001b[39m=\u001b[39m f\u001b[39m.\u001b[39mread()\n\u001b[0;32m     <a href='vscode-notebook-cell:/e%3A/Uni/uni%20sems%208/facerecoginationproject/email%20code.ipynb#ch0000003?line=16'>17</a>\u001b[0m     image_type \u001b[39m=\u001b[39m imghdr\u001b[39m.\u001b[39mwhat(f\u001b[39m.\u001b[39mname)\n",
      "\u001b[1;31mFileNotFoundError\u001b[0m: [Errno 2] No such file or directory: 's.png'"
     ]
    }
   ],
   "source": [
    "import smtplib\n",
    "import imghdr\n",
    "from email.message import EmailMessage\n",
    "\n",
    "Sender_Email = \"sohailkarimkhugno@gmail.com\"\n",
    "Reciever_Email = \"sohail.karimsk65@gmail.com\"\n",
    "Password = 'smlfzztgitpnswms'\n",
    "\n",
    "newMessage = EmailMessage()                         \n",
    "newMessage['Subject'] = \"Report \" \n",
    "newMessage['From'] = Sender_Email                   \n",
    "newMessage['To'] = Reciever_Email                   \n",
    "newMessage.set_content('Let me know what you think. Image attached!') \n",
    "\n",
    "with open('s.png', 'rb') as f:\n",
    "    image_data = f.read()\n",
    "    image_type = imghdr.what(f.name)\n",
    "    image_name = \"s.png\"\n",
    "\n",
    "newMessage.add_attachment(image_data, maintype='image', subtype=image_type, \"S.jpg\")\n",
    "\n",
    "with smtplib.SMTP_SSL('smtp.gmail.com', 465) as smtp:\n",
    "    \n",
    "    smtp.login(Sender_Email, Password)              \n",
    "    smtp.send_message(newMessage)"
   ]
  },
  {
   "cell_type": "code",
   "execution_count": 6,
   "metadata": {},
   "outputs": [
    {
     "name": "stdout",
     "output_type": "stream",
     "text": [
      "Mail send successfully.\n"
     ]
    }
   ],
   "source": [
    "import requests\n",
    "from email.mime.text import MIMEText\n",
    "from email.mime.image import MIMEImage\n",
    "from email.mime.multipart import MIMEMultipart\n",
    "import smtplib\n",
    "import cv2\n",
    "\n",
    "fromaddr = \"sohailkarimkhugno@gmail.com\"\n",
    "password = \"lmgwjkkdirjgtpxl\"\n",
    "receiver = \"sohail.karimsk65@gmail.com\"  \n",
    "cam = cv2.VideoCapture(0)\n",
    "def SendMail(dataset):\n",
    "    img_data = open(dataset, 'rb').read()\n",
    "    msg = MIMEMultipart()\n",
    "    msg['Subject'] = 'subject'\n",
    "    msg['From'] = fromaddr\n",
    "    msg['To'] = receiver\n",
    "\n",
    "    text = MIMEText('text for email')\n",
    "    msg.attach(text)\n",
    "    image = MIMEImage(img_data, name=os.path.basename(dataset))\n",
    "    msg.attach(image)\n",
    "\n",
    "    s = smtplib.SMTP('smtp.gmail.com', 587)\n",
    "    s.ehlo()\n",
    "    s.starttls()\n",
    "    s.ehlo()\n",
    "    s.login(fromaddr, password)\n",
    "    s.sendmail(fromaddr,receiver, msg.as_string())\n",
    "    print(\"Mail send successfully.\")\n",
    "    s.quit()\n",
    "\n",
    "## for caputring image and sending it through email.\n",
    "dimg= cam.read()[1]\n",
    "cv2.imwrite('1.1.jpg', dimg)       \n",
    "SendMail(\"1.1.jpg\")"
   ]
  }
 ],
 "metadata": {
  "kernelspec": {
   "display_name": "Python 3.10.4 64-bit",
   "language": "python",
   "name": "python3"
  },
  "language_info": {
   "codemirror_mode": {
    "name": "ipython",
    "version": 3
   },
   "file_extension": ".py",
   "mimetype": "text/x-python",
   "name": "python",
   "nbconvert_exporter": "python",
   "pygments_lexer": "ipython3",
   "version": "3.10.4"
  },
  "orig_nbformat": 4,
  "vscode": {
   "interpreter": {
    "hash": "26de051ba29f2982a8de78e945f0abaf191376122a1563185a90213a26c5da77"
   }
  }
 },
 "nbformat": 4,
 "nbformat_minor": 2
}
