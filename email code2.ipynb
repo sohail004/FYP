{
 "cells": [
  {
   "cell_type": "code",
   "execution_count": 14,
   "metadata": {},
   "outputs": [
    {
     "ename": "SMTPNotSupportedError",
     "evalue": "SMTP AUTH extension not supported by server.",
     "output_type": "error",
     "traceback": [
      "\u001b[1;31m---------------------------------------------------------------------------\u001b[0m",
      "\u001b[1;31mSMTPNotSupportedError\u001b[0m                     Traceback (most recent call last)",
      "\u001b[1;32me:\\Uni\\uni sems 8\\facerecoginationproject\\email code2.ipynb Cell 1\u001b[0m in \u001b[0;36m<cell line: 36>\u001b[1;34m()\u001b[0m\n\u001b[0;32m     <a href='vscode-notebook-cell:/e%3A/Uni/uni%20sems%208/facerecoginationproject/email%20code2.ipynb#ch0000000?line=32'>33</a>\u001b[0m \u001b[39m#for caputring image and sending it through email.\u001b[39;00m\n\u001b[0;32m     <a href='vscode-notebook-cell:/e%3A/Uni/uni%20sems%208/facerecoginationproject/email%20code2.ipynb#ch0000000?line=33'>34</a>\u001b[0m \u001b[39m#dimg= cam.read()[1]\u001b[39;00m\n\u001b[0;32m     <a href='vscode-notebook-cell:/e%3A/Uni/uni%20sems%208/facerecoginationproject/email%20code2.ipynb#ch0000000?line=34'>35</a>\u001b[0m cv2\u001b[39m.\u001b[39mimread(\u001b[39m\"\u001b[39m\u001b[39ms.jpg\u001b[39m\u001b[39m\"\u001b[39m)       \n\u001b[1;32m---> <a href='vscode-notebook-cell:/e%3A/Uni/uni%20sems%208/facerecoginationproject/email%20code2.ipynb#ch0000000?line=35'>36</a>\u001b[0m SendMail(\u001b[39m\"\u001b[39;49m\u001b[39ms.jpg\u001b[39;49m\u001b[39m\"\u001b[39;49m)\n",
      "\u001b[1;32me:\\Uni\\uni sems 8\\facerecoginationproject\\email code2.ipynb Cell 1\u001b[0m in \u001b[0;36mSendMail\u001b[1;34m(ImgFileName)\u001b[0m\n\u001b[0;32m     <a href='vscode-notebook-cell:/e%3A/Uni/uni%20sems%208/facerecoginationproject/email%20code2.ipynb#ch0000000?line=24'>25</a>\u001b[0m msg\u001b[39m.\u001b[39mattach(image)\n\u001b[0;32m     <a href='vscode-notebook-cell:/e%3A/Uni/uni%20sems%208/facerecoginationproject/email%20code2.ipynb#ch0000000?line=26'>27</a>\u001b[0m s \u001b[39m=\u001b[39m smtplib\u001b[39m.\u001b[39mSMTP(\u001b[39m'\u001b[39m\u001b[39msmtp.gmail.com\u001b[39m\u001b[39m'\u001b[39m, \u001b[39m587\u001b[39m)\n\u001b[1;32m---> <a href='vscode-notebook-cell:/e%3A/Uni/uni%20sems%208/facerecoginationproject/email%20code2.ipynb#ch0000000?line=27'>28</a>\u001b[0m s\u001b[39m.\u001b[39;49mlogin(fromaddr, password)\n\u001b[0;32m     <a href='vscode-notebook-cell:/e%3A/Uni/uni%20sems%208/facerecoginationproject/email%20code2.ipynb#ch0000000?line=28'>29</a>\u001b[0m s\u001b[39m.\u001b[39msendmail(fromaddr,receiver, msg\u001b[39m.\u001b[39mas_string())\n\u001b[0;32m     <a href='vscode-notebook-cell:/e%3A/Uni/uni%20sems%208/facerecoginationproject/email%20code2.ipynb#ch0000000?line=29'>30</a>\u001b[0m \u001b[39mprint\u001b[39m(\u001b[39m\"\u001b[39m\u001b[39mMail send successfully.\u001b[39m\u001b[39m\"\u001b[39m)\n",
      "File \u001b[1;32mc:\\Program Files\\Python310\\lib\\smtplib.py:716\u001b[0m, in \u001b[0;36mSMTP.login\u001b[1;34m(self, user, password, initial_response_ok)\u001b[0m\n\u001b[0;32m    714\u001b[0m \u001b[39mself\u001b[39m\u001b[39m.\u001b[39mehlo_or_helo_if_needed()\n\u001b[0;32m    715\u001b[0m \u001b[39mif\u001b[39;00m \u001b[39mnot\u001b[39;00m \u001b[39mself\u001b[39m\u001b[39m.\u001b[39mhas_extn(\u001b[39m\"\u001b[39m\u001b[39mauth\u001b[39m\u001b[39m\"\u001b[39m):\n\u001b[1;32m--> 716\u001b[0m     \u001b[39mraise\u001b[39;00m SMTPNotSupportedError(\n\u001b[0;32m    717\u001b[0m         \u001b[39m\"\u001b[39m\u001b[39mSMTP AUTH extension not supported by server.\u001b[39m\u001b[39m\"\u001b[39m)\n\u001b[0;32m    719\u001b[0m \u001b[39m# Authentication methods the server claims to support\u001b[39;00m\n\u001b[0;32m    720\u001b[0m advertised_authlist \u001b[39m=\u001b[39m \u001b[39mself\u001b[39m\u001b[39m.\u001b[39mesmtp_features[\u001b[39m\"\u001b[39m\u001b[39mauth\u001b[39m\u001b[39m\"\u001b[39m]\u001b[39m.\u001b[39msplit()\n",
      "\u001b[1;31mSMTPNotSupportedError\u001b[0m: SMTP AUTH extension not supported by server."
     ]
    }
   ],
   "source": [
    "import os\n",
    "from email.mime import image\n",
    "import smtplib\n",
    "import requests\n",
    "from email.mime.text import MIMEText\n",
    "from email.mime.image import MIMEImage\n",
    "from email.mime.multipart import MIMEMultipart\n",
    "import cv2\n",
    "\n",
    "fromaddr = \"sohailkarimkhugno@gmial.com\"\n",
    "password = \"smlfzztgitpnswms\"\n",
    "receiver = \"sohail.karimsk65@gmail.com\" \n",
    "attach = \"s.jpg\" \n",
    "cam = cv2.VideoCapture(0)\n",
    "def SendMail(ImgFileName):\n",
    "    img_data = open(ImgFileName, 'rb').read()\n",
    "    msg = MIMEMultipart()\n",
    "    msg['Subject'] = 'security purpose'\n",
    "    msg['From'] = fromaddr\n",
    "    msg['To'] = receiver\n",
    "\n",
    "    text = MIMEText('this is email from allied ATM')\n",
    "    msg.attach(text)\n",
    "    image = MIMEImage(img_data, name=os.path.basename(ImgFileName))\n",
    "    msg.attach(image)\n",
    "\n",
    "    s = smtplib.SMTP('smtp.gmail.com', 587)\n",
    "    s.login(fromaddr, password)\n",
    "    s.sendmail(fromaddr,receiver, msg.as_string())\n",
    "    print(\"Mail send successfully.\")\n",
    "    s.quit()\n",
    "\n",
    "#for caputring image and sending it through email.\n",
    "dimg= cam.read()[1]\n",
    "cv2.imread(\"s.jpg\")       \n",
    "SendMail(\"s.jpg\")"
   ]
  },
  {
   "cell_type": "code",
   "execution_count": 11,
   "metadata": {},
   "outputs": [
    {
     "name": "stdout",
     "output_type": "stream",
     "text": [
      "SMf482d6fd32e5450898756572d26d3a95\n"
     ]
    }
   ],
   "source": [
    "#otp message\n",
    "import math\n",
    "import random\n",
    "import smtplib\n",
    "import os\n",
    "from twilio.rest import Client\n",
    "digits=\"0123456789\"\n",
    "OTP=\"\"\n",
    "\n",
    "\n",
    "# Find your Account SID and Auth Token at twilio.com/console\n",
    "# and set the environment variables. See http://twil.io/secure\n",
    "account_sid = 'AC412b3b3fa8587df789d41116da99b3a4'\n",
    "auth_token = '73fc903ec7a7485591daea3a7c1a1f60'\n",
    "client = Client(account_sid, auth_token)\n",
    "for i in range(6):\n",
    "    OTP+=digits[math.floor(random.random()*10)]\n",
    "otp = OTP \n",
    "\n",
    "message = client.messages \\\n",
    "    .create(\n",
    "         body='The vericification code for ATM transaction is' '\\n' +  otp  + '\\n'  'please dont share with others',\n",
    "         from_='+19035322880',\n",
    "         to='+923420496364'\n",
    "     )\n",
    "\n",
    "print(message.sid)"
   ]
  }
 ],
 "metadata": {
  "kernelspec": {
   "display_name": "Python 3.10.4 64-bit",
   "language": "python",
   "name": "python3"
  },
  "language_info": {
   "codemirror_mode": {
    "name": "ipython",
    "version": 3
   },
   "file_extension": ".py",
   "mimetype": "text/x-python",
   "name": "python",
   "nbconvert_exporter": "python",
   "pygments_lexer": "ipython3",
   "version": "3.10.4"
  },
  "orig_nbformat": 4,
  "vscode": {
   "interpreter": {
    "hash": "26de051ba29f2982a8de78e945f0abaf191376122a1563185a90213a26c5da77"
   }
  }
 },
 "nbformat": 4,
 "nbformat_minor": 2
}
